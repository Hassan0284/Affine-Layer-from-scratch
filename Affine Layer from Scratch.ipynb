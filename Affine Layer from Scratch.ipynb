{
 "cells": [
  {
   "cell_type": "markdown",
   "id": "bf2e6697",
   "metadata": {},
   "source": [
    "# Libraries"
   ]
  },
  {
   "cell_type": "code",
   "execution_count": 101,
   "id": "4261cd39",
   "metadata": {},
   "outputs": [],
   "source": [
    "import numpy as np\n",
    "from sklearn.datasets import load_iris\n",
    "from sklearn.model_selection import train_test_split"
   ]
  },
  {
   "cell_type": "markdown",
   "id": "20f6853d",
   "metadata": {},
   "source": [
    "# Dataset Loading"
   ]
  },
  {
   "cell_type": "code",
   "execution_count": 102,
   "id": "96df7354",
   "metadata": {},
   "outputs": [],
   "source": [
    "iris = load_iris()\n",
    "X = iris.data  #features\n",
    "y = iris.target  #target labels \n",
    "\n",
    "inputSize = 4 # 4features \n",
    "outputSize = len(np.unique(y))  #number of unique classes"
   ]
  },
  {
   "cell_type": "markdown",
   "id": "e2e75022",
   "metadata": {},
   "source": [
    "# Basic functions from scratch"
   ]
  },
  {
   "cell_type": "code",
   "execution_count": 103,
   "id": "f48631f5",
   "metadata": {},
   "outputs": [],
   "source": [
    "def addForward(x, y):\n",
    "    return x + y, 1, 1\n",
    "\n",
    "def addBackward(usd, lx, ly):\n",
    "    return usd * lx, usd * ly, None\n",
    "\n",
    "def multiplyForward(x, y):\n",
    "    return x * y  \n",
    "\n",
    "def multiplyBackward(usd, lx, ly):\n",
    "    return usd * ly, usd * lx, None\n",
    "\n",
    "def subtractForward(x, y):\n",
    "    return x - y, 1, -1\n",
    "\n",
    "def subtractBackward(usd, lx, ly):\n",
    "    return usd * lx, usd * (-ly), None"
   ]
  },
  {
   "cell_type": "markdown",
   "id": "0a348c40",
   "metadata": {},
   "source": [
    "# Affine Layer Class"
   ]
  },
  {
   "cell_type": "code",
   "execution_count": 104,
   "id": "aae93ec2",
   "metadata": {},
   "outputs": [],
   "source": [
    "class AffineLayer:\n",
    "    def __init__(self, inputSize, outputSize):\n",
    "        outputSize = len(np.unique(y))\n",
    "        self.weights = np.random.randn(outputSize, inputSize) * np.sqrt(1/inputSize)\n",
    "        self.bias = np.zeros((outputSize, 1))\n",
    "\n",
    "    def forward(self, x):\n",
    "        weightedSum = np.dot(x, self.weights.T)\n",
    "        biasReshaped = self.bias.reshape(1, -1)\n",
    "        output, derivativeBias, derivative_y = addForward(weightedSum, biasReshaped)\n",
    "        return output\n",
    "\n",
    "    def backward(self, X, derivative):\n",
    "        #for derivatives of loss wrt weights\n",
    "        derivativeWeights = np.zeros_like(self.weights)  \n",
    "        for sampleIndex, x_i in enumerate(X):\n",
    "            #per-sample derivative for each weight\n",
    "            derivativeWeightsSample = np.dot(derivative[sampleIndex].reshape(-1, 1), x_i.reshape(1, -1))\n",
    "            derivativeWeights += derivativeWeightsSample\n",
    "\n",
    "        #average derivatives across samples (for stochastic gradient descent)\n",
    "        #derivativeWeights /= len(X)\n",
    "\n",
    "        #calculate derivative w.r.t input (for next layer)\n",
    "        derivativeInput = np.dot(derivative, self.weights)\n",
    "        return derivativeWeights, derivativeInput "
   ]
  },
  {
   "cell_type": "markdown",
   "id": "3dfab44f",
   "metadata": {},
   "source": [
    "# Model Architecture"
   ]
  },
  {
   "cell_type": "code",
   "execution_count": 105,
   "id": "e979699b",
   "metadata": {},
   "outputs": [],
   "source": [
    "class SimpleANN:\n",
    "    def __init__(self, inputSize, outputSize):\n",
    "        self.layer1 = AffineLayer(inputSize, outputSize)\n",
    "\n",
    "    def forward(self, x):\n",
    "        output = self.layer1.forward(x)\n",
    "        return output\n",
    "\n",
    "    def backward(self, x, upstreamDerivative):\n",
    "        derivativeWeights1, derivativeInput = self.layer1.backward(x, upstreamDerivative)\n",
    "        return derivativeWeights1, None"
   ]
  },
  {
   "cell_type": "markdown",
   "id": "849e3e27",
   "metadata": {},
   "source": [
    "# Loss Function"
   ]
  },
  {
   "cell_type": "code",
   "execution_count": 106,
   "id": "7f8d6f7d",
   "metadata": {},
   "outputs": [],
   "source": [
    "def SVMloss(logits, y):\n",
    "    numSamples = logits.shape[0]\n",
    "    #convert target labels to one-hot encoded format\n",
    "    oneHotEncoding = np.zeros_like(logits)\n",
    "    oneHotEncoding[np.arange(numSamples), y] = 1\n",
    "    #calculate differences\n",
    "    differences = logits - oneHotEncoding\n",
    "    differences[differences < 0] = 0\n",
    "    loss = np.sum(differences)\n",
    "    differences[differences > 0] = 1\n",
    "    differences[np.arange(numSamples), y] = -1 * np.sum(differences, axis=1)\n",
    "    return loss, differences"
   ]
  },
  {
   "cell_type": "markdown",
   "id": "95a8b05e",
   "metadata": {},
   "source": [
    "# Load Model"
   ]
  },
  {
   "cell_type": "code",
   "execution_count": 107,
   "id": "c6a7ce7d",
   "metadata": {},
   "outputs": [],
   "source": [
    "X_train, X_test, y_train, y_test = train_test_split(X, y, test_size=0.2, random_state=42)\n",
    "\n",
    "model = SimpleANN(inputSize, outputSize)\n",
    "learningRate = 0.01  "
   ]
  },
  {
   "cell_type": "markdown",
   "id": "ef1df283",
   "metadata": {},
   "source": [
    "# Training Loop"
   ]
  },
  {
   "cell_type": "code",
   "execution_count": 108,
   "id": "f07f5eab",
   "metadata": {},
   "outputs": [
    {
     "name": "stdout",
     "output_type": "stream",
     "text": [
      "Epoch 1, Training Loss: 970.386, Training Accuracy: 0.33, Testing Loss: 1211.723, Testing Accuracy: 0.40\n",
      "Epoch 2, Training Loss: 4733.012, Training Accuracy: 0.53, Testing Loss: 2975.483, Testing Accuracy: 0.50\n",
      "Epoch 3, Training Loss: 11579.422, Training Accuracy: 0.58, Testing Loss: 4739.244, Testing Accuracy: 0.47\n",
      "Epoch 4, Training Loss: 18425.832, Training Accuracy: 0.47, Testing Loss: 6503.005, Testing Accuracy: 0.30\n",
      "Epoch 5, Training Loss: 25272.426, Training Accuracy: 0.39, Testing Loss: 8260.692, Testing Accuracy: 0.23\n",
      "Epoch 6, Training Loss: 32096.344, Training Accuracy: 0.33, Testing Loss: 10018.380, Testing Accuracy: 0.20\n",
      "Epoch 7, Training Loss: 38920.262, Training Accuracy: 0.33, Testing Loss: 11776.067, Testing Accuracy: 0.20\n",
      "Epoch 8, Training Loss: 45744.181, Training Accuracy: 0.31, Testing Loss: 13533.754, Testing Accuracy: 0.20\n",
      "Epoch 9, Training Loss: 52568.099, Training Accuracy: 0.30, Testing Loss: 15291.441, Testing Accuracy: 0.20\n",
      "Epoch 10, Training Loss: 59392.017, Training Accuracy: 0.30, Testing Loss: 17049.128, Testing Accuracy: 0.20\n",
      "Epoch 11, Training Loss: 66215.936, Training Accuracy: 0.30, Testing Loss: 18806.816, Testing Accuracy: 0.20\n",
      "Epoch 12, Training Loss: 73039.854, Training Accuracy: 0.30, Testing Loss: 20564.503, Testing Accuracy: 0.20\n",
      "Epoch 13, Training Loss: 79863.772, Training Accuracy: 0.30, Testing Loss: 22322.190, Testing Accuracy: 0.20\n",
      "Epoch 14, Training Loss: 86687.690, Training Accuracy: 0.30, Testing Loss: 24079.877, Testing Accuracy: 0.20\n",
      "Epoch 15, Training Loss: 93511.609, Training Accuracy: 0.30, Testing Loss: 25837.564, Testing Accuracy: 0.20\n",
      "Epoch 16, Training Loss: 100335.527, Training Accuracy: 0.30, Testing Loss: 27595.252, Testing Accuracy: 0.20\n",
      "Epoch 17, Training Loss: 107159.445, Training Accuracy: 0.30, Testing Loss: 29352.939, Testing Accuracy: 0.20\n",
      "Epoch 18, Training Loss: 113983.364, Training Accuracy: 0.30, Testing Loss: 31110.626, Testing Accuracy: 0.20\n",
      "Epoch 19, Training Loss: 120807.282, Training Accuracy: 0.30, Testing Loss: 32868.313, Testing Accuracy: 0.20\n",
      "Epoch 20, Training Loss: 127631.200, Training Accuracy: 0.30, Testing Loss: 34626.000, Testing Accuracy: 0.20\n",
      "Epoch 21, Training Loss: 134455.119, Training Accuracy: 0.30, Testing Loss: 36383.688, Testing Accuracy: 0.23\n",
      "Epoch 22, Training Loss: 141279.037, Training Accuracy: 0.30, Testing Loss: 38141.375, Testing Accuracy: 0.23\n",
      "Epoch 23, Training Loss: 148102.955, Training Accuracy: 0.30, Testing Loss: 39899.062, Testing Accuracy: 0.23\n",
      "Epoch 24, Training Loss: 154926.873, Training Accuracy: 0.30, Testing Loss: 41656.749, Testing Accuracy: 0.23\n",
      "Epoch 25, Training Loss: 161750.792, Training Accuracy: 0.30, Testing Loss: 43414.436, Testing Accuracy: 0.27\n",
      "Epoch 26, Training Loss: 168574.710, Training Accuracy: 0.30, Testing Loss: 45172.124, Testing Accuracy: 0.27\n",
      "Epoch 27, Training Loss: 175398.628, Training Accuracy: 0.30, Testing Loss: 46929.811, Testing Accuracy: 0.27\n",
      "Epoch 28, Training Loss: 182222.547, Training Accuracy: 0.30, Testing Loss: 48687.498, Testing Accuracy: 0.27\n",
      "Epoch 29, Training Loss: 189046.465, Training Accuracy: 0.30, Testing Loss: 50445.185, Testing Accuracy: 0.27\n",
      "Epoch 30, Training Loss: 195870.383, Training Accuracy: 0.30, Testing Loss: 52202.872, Testing Accuracy: 0.27\n",
      "Epoch 31, Training Loss: 202694.302, Training Accuracy: 0.30, Testing Loss: 53960.560, Testing Accuracy: 0.27\n",
      "Epoch 32, Training Loss: 209518.220, Training Accuracy: 0.30, Testing Loss: 55718.247, Testing Accuracy: 0.27\n",
      "Epoch 33, Training Loss: 216342.138, Training Accuracy: 0.30, Testing Loss: 57475.934, Testing Accuracy: 0.27\n",
      "Epoch 34, Training Loss: 223166.056, Training Accuracy: 0.30, Testing Loss: 59233.621, Testing Accuracy: 0.27\n",
      "Epoch 35, Training Loss: 229989.975, Training Accuracy: 0.30, Testing Loss: 60991.308, Testing Accuracy: 0.30\n",
      "Epoch 36, Training Loss: 236813.893, Training Accuracy: 0.30, Testing Loss: 62748.996, Testing Accuracy: 0.30\n",
      "Epoch 37, Training Loss: 243637.811, Training Accuracy: 0.30, Testing Loss: 64506.683, Testing Accuracy: 0.30\n",
      "Epoch 38, Training Loss: 250461.730, Training Accuracy: 0.30, Testing Loss: 66264.370, Testing Accuracy: 0.30\n",
      "Epoch 39, Training Loss: 257285.648, Training Accuracy: 0.30, Testing Loss: 68022.057, Testing Accuracy: 0.30\n",
      "Epoch 40, Training Loss: 264109.566, Training Accuracy: 0.30, Testing Loss: 69779.744, Testing Accuracy: 0.30\n",
      "Epoch 41, Training Loss: 270933.485, Training Accuracy: 0.30, Testing Loss: 71537.432, Testing Accuracy: 0.30\n",
      "Epoch 42, Training Loss: 277757.403, Training Accuracy: 0.30, Testing Loss: 73295.119, Testing Accuracy: 0.30\n",
      "Epoch 43, Training Loss: 284581.321, Training Accuracy: 0.30, Testing Loss: 75052.806, Testing Accuracy: 0.30\n",
      "Epoch 44, Training Loss: 291405.239, Training Accuracy: 0.30, Testing Loss: 76810.493, Testing Accuracy: 0.30\n",
      "Epoch 45, Training Loss: 298229.158, Training Accuracy: 0.30, Testing Loss: 78568.180, Testing Accuracy: 0.30\n",
      "Epoch 46, Training Loss: 305053.076, Training Accuracy: 0.30, Testing Loss: 80325.868, Testing Accuracy: 0.30\n",
      "Epoch 47, Training Loss: 311876.994, Training Accuracy: 0.30, Testing Loss: 82083.555, Testing Accuracy: 0.30\n",
      "Epoch 48, Training Loss: 318700.913, Training Accuracy: 0.30, Testing Loss: 83841.242, Testing Accuracy: 0.30\n",
      "Epoch 49, Training Loss: 325524.831, Training Accuracy: 0.30, Testing Loss: 85598.929, Testing Accuracy: 0.30\n",
      "Epoch 50, Training Loss: 332348.749, Training Accuracy: 0.30, Testing Loss: 87356.616, Testing Accuracy: 0.30\n",
      "Epoch 51, Training Loss: 339172.668, Training Accuracy: 0.30, Testing Loss: 89114.304, Testing Accuracy: 0.30\n",
      "Epoch 52, Training Loss: 345996.586, Training Accuracy: 0.30, Testing Loss: 90871.991, Testing Accuracy: 0.30\n",
      "Epoch 53, Training Loss: 352820.504, Training Accuracy: 0.30, Testing Loss: 92629.678, Testing Accuracy: 0.30\n",
      "Epoch 54, Training Loss: 359644.422, Training Accuracy: 0.30, Testing Loss: 94387.365, Testing Accuracy: 0.30\n",
      "Epoch 55, Training Loss: 366468.341, Training Accuracy: 0.30, Testing Loss: 96145.052, Testing Accuracy: 0.30\n",
      "Epoch 56, Training Loss: 373292.259, Training Accuracy: 0.30, Testing Loss: 97902.740, Testing Accuracy: 0.30\n",
      "Epoch 57, Training Loss: 380116.177, Training Accuracy: 0.30, Testing Loss: 99660.427, Testing Accuracy: 0.30\n",
      "Epoch 58, Training Loss: 386940.096, Training Accuracy: 0.30, Testing Loss: 101418.114, Testing Accuracy: 0.30\n",
      "Epoch 59, Training Loss: 393764.014, Training Accuracy: 0.30, Testing Loss: 103175.801, Testing Accuracy: 0.30\n",
      "Epoch 60, Training Loss: 400587.932, Training Accuracy: 0.30, Testing Loss: 104933.488, Testing Accuracy: 0.30\n",
      "Epoch 61, Training Loss: 407411.851, Training Accuracy: 0.30, Testing Loss: 106691.176, Testing Accuracy: 0.30\n",
      "Epoch 62, Training Loss: 414235.769, Training Accuracy: 0.30, Testing Loss: 108448.863, Testing Accuracy: 0.30\n",
      "Epoch 63, Training Loss: 421059.687, Training Accuracy: 0.30, Testing Loss: 110206.550, Testing Accuracy: 0.30\n",
      "Epoch 64, Training Loss: 427883.605, Training Accuracy: 0.30, Testing Loss: 111964.237, Testing Accuracy: 0.30\n",
      "Epoch 65, Training Loss: 434707.524, Training Accuracy: 0.30, Testing Loss: 113721.924, Testing Accuracy: 0.30\n",
      "Epoch 66, Training Loss: 441531.442, Training Accuracy: 0.30, Testing Loss: 115479.612, Testing Accuracy: 0.30\n",
      "Epoch 67, Training Loss: 448355.360, Training Accuracy: 0.30, Testing Loss: 117237.299, Testing Accuracy: 0.30\n",
      "Epoch 68, Training Loss: 455179.279, Training Accuracy: 0.30, Testing Loss: 118994.986, Testing Accuracy: 0.30\n",
      "Epoch 69, Training Loss: 462003.197, Training Accuracy: 0.30, Testing Loss: 120752.673, Testing Accuracy: 0.30\n",
      "Epoch 70, Training Loss: 468827.115, Training Accuracy: 0.30, Testing Loss: 122510.360, Testing Accuracy: 0.30\n",
      "Epoch 71, Training Loss: 475651.034, Training Accuracy: 0.30, Testing Loss: 124268.048, Testing Accuracy: 0.30\n",
      "Epoch 72, Training Loss: 482474.952, Training Accuracy: 0.30, Testing Loss: 126025.735, Testing Accuracy: 0.30\n",
      "Epoch 73, Training Loss: 489298.870, Training Accuracy: 0.30, Testing Loss: 127783.422, Testing Accuracy: 0.30\n",
      "Epoch 74, Training Loss: 496122.788, Training Accuracy: 0.30, Testing Loss: 129541.109, Testing Accuracy: 0.30\n",
      "Epoch 75, Training Loss: 502946.707, Training Accuracy: 0.30, Testing Loss: 131298.796, Testing Accuracy: 0.30\n",
      "Epoch 76, Training Loss: 509770.625, Training Accuracy: 0.30, Testing Loss: 133056.484, Testing Accuracy: 0.30\n",
      "Epoch 77, Training Loss: 516594.543, Training Accuracy: 0.30, Testing Loss: 134814.171, Testing Accuracy: 0.30\n",
      "Epoch 78, Training Loss: 523418.462, Training Accuracy: 0.30, Testing Loss: 136571.858, Testing Accuracy: 0.30\n",
      "Epoch 79, Training Loss: 530242.380, Training Accuracy: 0.30, Testing Loss: 138329.545, Testing Accuracy: 0.30\n",
      "Epoch 80, Training Loss: 537066.298, Training Accuracy: 0.30, Testing Loss: 140087.232, Testing Accuracy: 0.30\n",
      "Epoch 81, Training Loss: 543890.217, Training Accuracy: 0.30, Testing Loss: 141844.920, Testing Accuracy: 0.30\n",
      "Epoch 82, Training Loss: 550714.135, Training Accuracy: 0.30, Testing Loss: 143602.607, Testing Accuracy: 0.30\n",
      "Epoch 83, Training Loss: 557538.053, Training Accuracy: 0.30, Testing Loss: 145360.294, Testing Accuracy: 0.30\n",
      "Epoch 84, Training Loss: 564361.971, Training Accuracy: 0.30, Testing Loss: 147117.981, Testing Accuracy: 0.30\n",
      "Epoch 85, Training Loss: 571185.890, Training Accuracy: 0.30, Testing Loss: 148875.668, Testing Accuracy: 0.30\n",
      "Epoch 86, Training Loss: 578009.808, Training Accuracy: 0.30, Testing Loss: 150633.356, Testing Accuracy: 0.30\n",
      "Epoch 87, Training Loss: 584833.726, Training Accuracy: 0.30, Testing Loss: 152391.043, Testing Accuracy: 0.30\n",
      "Epoch 88, Training Loss: 591657.645, Training Accuracy: 0.30, Testing Loss: 154148.730, Testing Accuracy: 0.30\n",
      "Epoch 89, Training Loss: 598481.563, Training Accuracy: 0.30, Testing Loss: 155906.417, Testing Accuracy: 0.30\n",
      "Epoch 90, Training Loss: 605305.481, Training Accuracy: 0.30, Testing Loss: 157664.104, Testing Accuracy: 0.30\n",
      "Epoch 91, Training Loss: 612129.400, Training Accuracy: 0.30, Testing Loss: 159421.792, Testing Accuracy: 0.30\n",
      "Epoch 92, Training Loss: 618953.318, Training Accuracy: 0.30, Testing Loss: 161179.479, Testing Accuracy: 0.30\n",
      "Epoch 93, Training Loss: 625777.236, Training Accuracy: 0.30, Testing Loss: 162937.166, Testing Accuracy: 0.30\n",
      "Epoch 94, Training Loss: 632601.154, Training Accuracy: 0.30, Testing Loss: 164694.853, Testing Accuracy: 0.30\n",
      "Epoch 95, Training Loss: 639425.073, Training Accuracy: 0.30, Testing Loss: 166452.540, Testing Accuracy: 0.30\n",
      "Epoch 96, Training Loss: 646248.991, Training Accuracy: 0.30, Testing Loss: 168210.228, Testing Accuracy: 0.30\n",
      "Epoch 97, Training Loss: 653072.909, Training Accuracy: 0.30, Testing Loss: 169967.915, Testing Accuracy: 0.30\n"
     ]
    },
    {
     "name": "stdout",
     "output_type": "stream",
     "text": [
      "Epoch 98, Training Loss: 659896.828, Training Accuracy: 0.30, Testing Loss: 171725.602, Testing Accuracy: 0.30\n",
      "Epoch 99, Training Loss: 666720.746, Training Accuracy: 0.30, Testing Loss: 173483.289, Testing Accuracy: 0.30\n",
      "Epoch 100, Training Loss: 673544.664, Training Accuracy: 0.30, Testing Loss: 175240.976, Testing Accuracy: 0.30\n"
     ]
    }
   ],
   "source": [
    "for epoch in range(100):  \n",
    "    #forward pass on the training data\n",
    "    output_train = model.forward(X_train)\n",
    "    loss_train, derivative = SVMloss(output_train, y_train)\n",
    "    \n",
    "    #backward pass and weight updation on training data\n",
    "    derivativeWeights1, derivativeBias1 = model.backward(X_train, derivative)\n",
    "    derivativeWeights1_Transposed = derivativeWeights1.T\n",
    "    derivativeWeights1Reshaped = derivativeWeights1_Transposed.reshape(model.layer1.weights.shape)  \n",
    "    model.layer1.weights -= learningRate * derivativeWeights1Reshaped\n",
    "    \n",
    "    if derivativeBias1 is not None:\n",
    "        model.layer1.bias -= learningRate * derivativeBias1\n",
    "        \n",
    "    #forward pass on the testing data\n",
    "    output_test = model.forward(X_test)\n",
    "    loss_test, _ = SVMloss(output_test, y_test)\n",
    "    \n",
    "    #training accuracy\n",
    "    predictions_train = np.argmax(output_train, axis=1)\n",
    "    accuracy_train = np.mean(predictions_train == y_train)\n",
    "    \n",
    "    #testing accuracy\n",
    "    predictions_test = np.argmax(output_test, axis=1)\n",
    "    accuracy_test = np.mean(predictions_test == y_test)\n",
    "\n",
    "    print(f\"Epoch {epoch+1}, Training Loss: {loss_train:.3f}, Training Accuracy: {accuracy_train:.2f}, Testing Loss: {loss_test:.3f}, Testing Accuracy: {accuracy_test:.2f}\")\n",
    "\n",
    "\n"
   ]
  },
  {
   "cell_type": "markdown",
   "id": "c84158bf",
   "metadata": {},
   "source": [
    "---\n",
    "\n",
    "**Note:** I have tried my best to provide accurate results in this notebook. However, these results may not be entirely accurate, and contributions or corrections are encouraged. Thank you!\n"
   ]
  }
 ],
 "metadata": {
  "kernelspec": {
   "display_name": "Python 3 (ipykernel)",
   "language": "python",
   "name": "python3"
  },
  "language_info": {
   "codemirror_mode": {
    "name": "ipython",
    "version": 3
   },
   "file_extension": ".py",
   "mimetype": "text/x-python",
   "name": "python",
   "nbconvert_exporter": "python",
   "pygments_lexer": "ipython3",
   "version": "3.9.12"
  }
 },
 "nbformat": 4,
 "nbformat_minor": 5
}
